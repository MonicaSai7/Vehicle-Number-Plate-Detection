{
 "cells": [
  {
   "cell_type": "code",
   "execution_count": null,
   "metadata": {},
   "outputs": [],
   "source": [
    "import requests\n",
    "import pytesseract\n",
    "import random\n",
    "import numpy as np # linear algebra\n",
    "import pandas as pd # data processing, CSV file I/O (e.g. pd.read_csv)\n",
    "from tqdm import tqdm\n",
    "from PIL import Image\n",
    "import matplotlib.pyplot as plt\n",
    "import urllib\n",
    "import cv2\n",
    "import json\n",
    "import os"
   ]
  },
  {
   "cell_type": "markdown",
   "metadata": {},
   "source": [
    "# Load data JSON file \n",
    "### Extract bounding boxes of license plates"
   ]
  },
  {
   "cell_type": "code",
   "execution_count": null,
   "metadata": {},
   "outputs": [],
   "source": [
    "# Read the data\n",
    "data = pd.read_json('Indian_Number_plates.json', lines=True)\n",
    "pd.set_option('display.max_colwidth', -1)\n",
    "\n",
    "# Delete the empty column\n",
    "del data['extras']\n",
    "\n",
    "# Extract the points of the bounding boxes because thats what we want\n",
    "data['points'] = data.apply(lambda row: row['annotation'][0]['points'], axis=1)\n",
    "\n",
    "# And drop the rest of the annotation info\n",
    "del data['annotation']"
   ]
  },
  {
   "cell_type": "markdown",
   "metadata": {},
   "source": [
    "# Extract license plates "
   ]
  },
  {
   "cell_type": "code",
   "execution_count": null,
   "metadata": {},
   "outputs": [],
   "source": [
    "Images = []\n",
    "Plates = []\n",
    "\n",
    "def downloadTraining(df):\n",
    "\n",
    "    for index, row in df.iterrows():\n",
    "\n",
    "        # Get the image from the URL\n",
    "        resp = urllib.request.urlopen(row[0])\n",
    "        im = np.array(Image.open(resp))\n",
    "\n",
    "        # We append the image to the training input array\n",
    "        Images.append(im)  \n",
    "\n",
    "        # Points of rectangle\n",
    "        x_point_top = row[1][0]['x']*im.shape[1]\n",
    "        y_point_top = row[1][0]['y']*im.shape[0]\n",
    "        x_point_bot = row[1][1]['x']*im.shape[1]\n",
    "        y_point_bot = row[1][1]['y']*im.shape[0]\n",
    "\n",
    "        # Cut the plate from the image and use it as output\n",
    "        carImage = Image.fromarray(im)\n",
    "        plateImage = carImage.crop((x_point_top, y_point_top, x_point_bot, y_point_bot))\n",
    "        Plates.append(np.array(plateImage))"
   ]
  },
  {
   "cell_type": "code",
   "execution_count": null,
   "metadata": {},
   "outputs": [],
   "source": [
    "downloadTraining(data)"
   ]
  },
  {
   "cell_type": "markdown",
   "metadata": {},
   "source": [
    "# Check sample data"
   ]
  },
  {
   "cell_type": "code",
   "execution_count": null,
   "metadata": {},
   "outputs": [],
   "source": [
    "import matplotlib.pyplot as plt\n",
    "import matplotlib.patches as patches\n",
    "\n",
    "# Create figure and axes\n",
    "fig, ax = plt.subplots(2, 1, constrained_layout=True)\n",
    "\n",
    "# Set title\n",
    "ax[0].set_title('Input Image')\n",
    "ax[1].set_title('Output Image')\n",
    "\n",
    "# Display the images\n",
    "ax[0].imshow(Images[0])\n",
    "ax[1].imshow(Plates[0])\n",
    "\n",
    "plt.show()"
   ]
  }
 ],
 "metadata": {
  "kernelspec": {
   "display_name": "Python 3",
   "language": "python",
   "name": "python3"
  },
  "language_info": {
   "codemirror_mode": {
    "name": "ipython",
    "version": 3
   },
   "file_extension": ".py",
   "mimetype": "text/x-python",
   "name": "python",
   "nbconvert_exporter": "python",
   "pygments_lexer": "ipython3",
   "version": "3.7.4"
  }
 },
 "nbformat": 4,
 "nbformat_minor": 2
}
